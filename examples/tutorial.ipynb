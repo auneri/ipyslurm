{
 "cells": [
  {
   "cell_type": "markdown",
   "metadata": {},
   "source": [
    "# ipyslurm"
   ]
  },
  {
   "cell_type": "markdown",
   "metadata": {},
   "source": [
    "Start by loading the **ipyslurm** extension.  \n",
    "See [here](http://ipython.readthedocs.io/en/stable/config/extensions/index.html) for help on IPython extensions."
   ]
  },
  {
   "cell_type": "code",
   "execution_count": null,
   "metadata": {
    "collapsed": false
   },
   "outputs": [],
   "source": [
    "%load_ext ipyslurm"
   ]
  },
  {
   "cell_type": "markdown",
   "metadata": {},
   "source": [
    "Use **`slogin`** to log in to the server managed by Slurm."
   ]
  },
  {
   "cell_type": "code",
   "execution_count": null,
   "metadata": {
    "collapsed": false
   },
   "outputs": [],
   "source": [
    "%slogin my.server --username my.username"
   ]
  },
  {
   "cell_type": "markdown",
   "metadata": {},
   "source": [
    "Use **`sbash`** to invoke local shell scripts."
   ]
  },
  {
   "cell_type": "code",
   "execution_count": null,
   "metadata": {
    "collapsed": false
   },
   "outputs": [],
   "source": [
    "%%sbash\n",
    "for i in {1..10}; do\n",
    "    echo -n \"$i \"\n",
    "done"
   ]
  },
  {
   "cell_type": "markdown",
   "metadata": {},
   "source": [
    "Shebang (#!) usage:"
   ]
  },
  {
   "cell_type": "code",
   "execution_count": null,
   "metadata": {
    "collapsed": false
   },
   "outputs": [],
   "source": [
    "%%sbash\n",
    "#!/usr/bin/env bash\n",
    "for i in {1..10}; do\n",
    "    echo -n \"$i \"\n",
    "done"
   ]
  },
  {
   "cell_type": "code",
   "execution_count": null,
   "metadata": {
    "collapsed": false
   },
   "outputs": [],
   "source": [
    "%%sbash\n",
    "#!/usr/bin/env python\n",
    "import sys\n",
    "for i in range(1, 11):\n",
    "    sys.stdout.write('{0:d} '.format(i))\n",
    "    sys.stdout.flush()"
   ]
  },
  {
   "cell_type": "markdown",
   "metadata": {},
   "source": [
    "Use `--period` (and optionally `--timeout`) to repeatedly run commands."
   ]
  },
  {
   "cell_type": "code",
   "execution_count": null,
   "metadata": {
    "collapsed": false
   },
   "outputs": [],
   "source": [
    "%%sbash --period 1 --timeout 3\n",
    "squeue"
   ]
  },
  {
   "cell_type": "markdown",
   "metadata": {},
   "source": [
    "Use **`sbatch`** to invoke sbatch scripts, use `--wait` or `--tail` to block until execution is complete."
   ]
  },
  {
   "cell_type": "code",
   "execution_count": null,
   "metadata": {
    "collapsed": false
   },
   "outputs": [],
   "source": [
    "%%sbatch --wait --args \"--immediate --job-name ipyslurm --output ./ipyslurm.sh.log\"\n",
    "for i in {1..10}; do\n",
    "    sleep 1\n",
    "    echo -n \"$i \"\n",
    "done"
   ]
  },
  {
   "cell_type": "markdown",
   "metadata": {},
   "source": [
    "Shebang (`#!`) usage with `--tail` option:"
   ]
  },
  {
   "cell_type": "code",
   "execution_count": null,
   "metadata": {
    "collapsed": false
   },
   "outputs": [],
   "source": [
    "%%sbatch --tail 5\n",
    "#!/usr/bin/env bash\n",
    "#SBATCH --immediate\n",
    "#SBATCH --job-name ipyslurm\n",
    "#SBATCH --output ./ipyslurm.sh.log\n",
    "for i in {1..10}; do\n",
    "    sleep 1\n",
    "    echo -n \"$i \"\n",
    "done"
   ]
  },
  {
   "cell_type": "code",
   "execution_count": null,
   "metadata": {
    "collapsed": false
   },
   "outputs": [],
   "source": [
    "%%sbatch --tail 5\n",
    "#!/usr/bin/env python\n",
    "#SBATCH --immediate\n",
    "#SBATCH --job-name ipyslurm\n",
    "#SBATCH --output ./ipyslurm.py.log\n",
    "import sys\n",
    "import time\n",
    "for i in range(1, 11):\n",
    "    time.sleep(1)\n",
    "    sys.stdout.write('{0:d} '.format(i))\n",
    "    sys.stdout.flush()"
   ]
  },
  {
   "cell_type": "markdown",
   "metadata": {},
   "source": [
    "Use **`sftp`** to access, transfer, and manage files.  \n",
    "See interactive commands section of http://man.openbsd.org/sftp for available commands."
   ]
  },
  {
   "cell_type": "code",
   "execution_count": null,
   "metadata": {
    "collapsed": false
   },
   "outputs": [],
   "source": [
    "%%sftp\n",
    "rm ./ipyslurm.sh.log\n",
    "rm ./ipyslurm.py.log"
   ]
  },
  {
   "cell_type": "markdown",
   "metadata": {},
   "source": [
    "Use **`slogout`** to log out of the Slurm cluster."
   ]
  },
  {
   "cell_type": "code",
   "execution_count": null,
   "metadata": {
    "collapsed": false
   },
   "outputs": [],
   "source": [
    "%slogout"
   ]
  }
 ],
 "metadata": {
  "kernelspec": {
   "display_name": "Python 3",
   "language": "python",
   "name": "python3"
  },
  "language_info": {
   "codemirror_mode": {
    "name": "ipython",
    "version": 3
   },
   "file_extension": ".py",
   "mimetype": "text/x-python",
   "name": "python",
   "nbconvert_exporter": "python",
   "pygments_lexer": "ipython3",
   "version": "3.5.4"
  }
 },
 "nbformat": 4,
 "nbformat_minor": 2
}
