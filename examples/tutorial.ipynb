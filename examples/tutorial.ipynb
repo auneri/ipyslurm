{
 "cells": [
  {
   "cell_type": "markdown",
   "metadata": {},
   "source": [
    "# ipyslurm"
   ]
  },
  {
   "cell_type": "markdown",
   "metadata": {},
   "source": [
    "Start by loading the **ipyslurm** extension.  \n",
    "See [here](http://ipython.readthedocs.io/en/stable/config/extensions/index.html) for help on IPython extensions."
   ]
  },
  {
   "cell_type": "code",
   "execution_count": null,
   "metadata": {
    "collapsed": false
   },
   "outputs": [],
   "source": [
    "%load_ext ipyslurm"
   ]
  },
  {
   "cell_type": "markdown",
   "metadata": {},
   "source": [
    "Use **`slogin`** to log in to the server managed by Slurm."
   ]
  },
  {
   "cell_type": "code",
   "execution_count": null,
   "metadata": {
    "collapsed": false
   },
   "outputs": [],
   "source": [
    "%slogin my.server --username my.username"
   ]
  },
  {
   "cell_type": "markdown",
   "metadata": {},
   "source": [
    "Use **`sbash`** to invoke remote shell scripts."
   ]
  },
  {
   "cell_type": "code",
   "execution_count": null,
   "metadata": {
    "collapsed": false
   },
   "outputs": [],
   "source": [
    "%%sbash\n",
    "for i in {1..10}; do\n",
    "    echo -n \"$i \"\n",
    "done"
   ]
  },
  {
   "cell_type": "markdown",
   "metadata": {},
   "source": [
    "Shebang (#!) usage:"
   ]
  },
  {
   "cell_type": "code",
   "execution_count": null,
   "metadata": {
    "collapsed": false
   },
   "outputs": [],
   "source": [
    "%%sbash\n",
    "#!/usr/bin/env bash\n",
    "for i in {1..10}; do\n",
    "    echo -n \"$i \"\n",
    "done"
   ]
  },
  {
   "cell_type": "code",
   "execution_count": null,
   "metadata": {
    "collapsed": false
   },
   "outputs": [],
   "source": [
    "%%sbash\n",
    "#!/usr/bin/env python\n",
    "for i in range(10):\n",
    "    print(i + 1, end=' ')"
   ]
  },
  {
   "cell_type": "markdown",
   "metadata": {},
   "source": [
    "Pass `--period` (and optionally `--timeout`) to repeatedly run commands."
   ]
  },
  {
   "cell_type": "code",
   "execution_count": null,
   "metadata": {
    "collapsed": false
   },
   "outputs": [],
   "source": [
    "%%sbash --period 1 --timeout 3\n",
    "squeue"
   ]
  },
  {
   "cell_type": "markdown",
   "metadata": {},
   "source": [
    "Use **`sbatch`** to invoke sbatch scripts, pass `--wait` or `--tail` to block until execution is complete."
   ]
  },
  {
   "cell_type": "code",
   "execution_count": null,
   "metadata": {
    "collapsed": false
   },
   "outputs": [],
   "source": [
    "%%sbatch --tail 5 --args \"--immediate --job-name ipyslurm --output ./ipyslurm.log\"\n",
    "for i in {1..10}; do\n",
    "    sleep 1\n",
    "    echo -n \"$i \"\n",
    "done"
   ]
  },
  {
   "cell_type": "markdown",
   "metadata": {},
   "source": [
    "Shebang (#!) and `sbatch` options usage:"
   ]
  },
  {
   "cell_type": "code",
   "execution_count": null,
   "metadata": {
    "collapsed": false
   },
   "outputs": [],
   "source": [
    "%%sbatch --wait\n",
    "#!/usr/bin/env bash\n",
    "#SBATCH --immediate\n",
    "#SBATCH --job-name ipyslurm\n",
    "#SBATCH --array 1-10\n",
    "#SBATCH --output ./ipyslurm.%2a.log\n",
    "echo \"$SLURM_ARRAY_TASK_ID\""
   ]
  },
  {
   "cell_type": "code",
   "execution_count": null,
   "metadata": {
    "collapsed": false
   },
   "outputs": [],
   "source": [
    "%%sbash\n",
    "cat ipyslurm.*.log"
   ]
  },
  {
   "cell_type": "code",
   "execution_count": null,
   "metadata": {
    "collapsed": false
   },
   "outputs": [],
   "source": [
    "%%sbatch --wait\n",
    "#!/usr/bin/env python\n",
    "#SBATCH --immediate\n",
    "#SBATCH --job-name ipyslurm\n",
    "#SBATCH --array 1-10\n",
    "#SBATCH --output ./ipyslurm.%2a.log\n",
    "import os\n",
    "print(os.getenv('SLURM_ARRAY_TASK_ID'))"
   ]
  },
  {
   "cell_type": "code",
   "execution_count": null,
   "metadata": {
    "collapsed": false
   },
   "outputs": [],
   "source": [
    "%%sbash\n",
    "cat ipyslurm.*.log"
   ]
  },
  {
   "cell_type": "markdown",
   "metadata": {},
   "source": [
    "Use **`sftp`** to access, transfer, and manage files.  \n",
    "See interactive commands section of http://man.openbsd.org/sftp for available commands."
   ]
  },
  {
   "cell_type": "code",
   "execution_count": null,
   "metadata": {
    "collapsed": false
   },
   "outputs": [],
   "source": [
    "%%sftp\n",
    "rm ./ipyslurm.log\n",
    "rm ./ipyslurm.01.log\n",
    "rm ./ipyslurm.02.log\n",
    "rm ./ipyslurm.03.log\n",
    "rm ./ipyslurm.04.log\n",
    "rm ./ipyslurm.05.log\n",
    "rm ./ipyslurm.06.log\n",
    "rm ./ipyslurm.07.log\n",
    "rm ./ipyslurm.08.log\n",
    "rm ./ipyslurm.09.log\n",
    "rm ./ipyslurm.10.log"
   ]
  },
  {
   "cell_type": "markdown",
   "metadata": {},
   "source": [
    "Use **`slogout`** to log out of the Slurm cluster."
   ]
  },
  {
   "cell_type": "code",
   "execution_count": null,
   "metadata": {
    "collapsed": false
   },
   "outputs": [],
   "source": [
    "%slogout"
   ]
  }
 ],
 "metadata": {
  "kernelspec": {
   "display_name": "Python 3",
   "language": "python",
   "name": "python3"
  },
  "language_info": {
   "codemirror_mode": {
    "name": "ipython",
    "version": 3
   },
   "file_extension": ".py",
   "mimetype": "text/x-python",
   "name": "python",
   "nbconvert_exporter": "python",
   "pygments_lexer": "ipython3",
   "version": "3.6.6"
  }
 },
 "nbformat": 4,
 "nbformat_minor": 2
}
