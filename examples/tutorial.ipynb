{
 "cells": [
  {
   "cell_type": "markdown",
   "metadata": {},
   "source": [
    "# ipyslurm"
   ]
  },
  {
   "cell_type": "markdown",
   "metadata": {},
   "source": [
    "Start by loading the **ipyslurm** extension.  \n",
    "See [here](http://ipython.readthedocs.io/en/stable/config/extensions/index.html) for help on IPython extensions."
   ]
  },
  {
   "cell_type": "code",
   "execution_count": null,
   "metadata": {},
   "outputs": [],
   "source": [
    "%load_ext ipyslurm"
   ]
  },
  {
   "cell_type": "markdown",
   "metadata": {},
   "source": [
    "Use **`slogin`** to log in to the server managed by Slurm."
   ]
  },
  {
   "cell_type": "code",
   "execution_count": null,
   "metadata": {},
   "outputs": [],
   "source": [
    "%slogin --server my.server --username my.username"
   ]
  },
  {
   "cell_type": "markdown",
   "metadata": {},
   "source": [
    "Use **`scommand`** to invoke remote commands."
   ]
  },
  {
   "cell_type": "code",
   "execution_count": null,
   "metadata": {},
   "outputs": [],
   "source": [
    "%%scommand\n",
    "for i in `seq 1 9`; do\n",
    "    echo -n \"$i \"\n",
    "done"
   ]
  },
  {
   "cell_type": "markdown",
   "metadata": {},
   "source": [
    "Shebang (#!) usage:"
   ]
  },
  {
   "cell_type": "code",
   "execution_count": null,
   "metadata": {},
   "outputs": [],
   "source": [
    "%%scommand\n",
    "#!/usr/bin/env bash\n",
    "for i in `seq 1 9`; do\n",
    "    echo -n \"$i \"\n",
    "done"
   ]
  },
  {
   "cell_type": "code",
   "execution_count": null,
   "metadata": {},
   "outputs": [],
   "source": [
    "%%scommand\n",
    "#!/usr/bin/env python\n",
    "for i in range(9):\n",
    "    print(i + 1, end=' ')"
   ]
  },
  {
   "cell_type": "markdown",
   "metadata": {},
   "source": [
    "Pass `--period` (and optionally `--timeout`) to repeatedly run commands."
   ]
  },
  {
   "cell_type": "code",
   "execution_count": null,
   "metadata": {},
   "outputs": [],
   "source": [
    "%%scommand --period 1 --timeout 3\n",
    "squeue"
   ]
  },
  {
   "cell_type": "markdown",
   "metadata": {},
   "source": [
    "Use **`sbatch`** to invoke sbatch scripts, pass or `--tail` to block until execution is complete."
   ]
  },
  {
   "cell_type": "code",
   "execution_count": null,
   "metadata": {},
   "outputs": [],
   "source": [
    "%%sbatch --tail 1 --args \"--job-name ipyslurm --output $HOME/ipyslurm.log\"\n",
    "for i in `seq 1 9`; do\n",
    "    sleep 1\n",
    "    echo -n \"$i \"\n",
    "done"
   ]
  },
  {
   "cell_type": "markdown",
   "metadata": {},
   "source": [
    "Shebang (#!) and `sbatch` options usage:"
   ]
  },
  {
   "cell_type": "code",
   "execution_count": null,
   "metadata": {},
   "outputs": [],
   "source": [
    "%%sbatch --tail 0\n",
    "#!/usr/bin/env bash\n",
    "#SBATCH --array 1-9\n",
    "#SBATCH --job-name ipyslurm\n",
    "#SBATCH --output $HOME/ipyslurm.%a.log\n",
    "echo \"$SLURM_ARRAY_TASK_ID\""
   ]
  },
  {
   "cell_type": "code",
   "execution_count": null,
   "metadata": {},
   "outputs": [],
   "source": [
    "%%scommand\n",
    "cat ipyslurm.*.log"
   ]
  },
  {
   "cell_type": "code",
   "execution_count": null,
   "metadata": {},
   "outputs": [],
   "source": [
    "%%sbatch --tail 0\n",
    "#!/usr/bin/env python\n",
    "#SBATCH --array 1-9\n",
    "#SBATCH --job-name ipyslurm\n",
    "#SBATCH --output $HOME/ipyslurm.%a.log\n",
    "import os\n",
    "print(os.getenv('SLURM_ARRAY_TASK_ID'))"
   ]
  },
  {
   "cell_type": "code",
   "execution_count": null,
   "metadata": {},
   "outputs": [],
   "source": [
    "%%scommand\n",
    "cat ipyslurm.*.log"
   ]
  },
  {
   "cell_type": "markdown",
   "metadata": {},
   "source": [
    "Use **`sftp`** to access, transfer, and manage files.  \n",
    "See interactive commands section of http://man.openbsd.org/sftp for available commands."
   ]
  },
  {
   "cell_type": "code",
   "execution_count": null,
   "metadata": {},
   "outputs": [],
   "source": [
    "%%sftp\n",
    "rm $HOME/ipyslurm.log\n",
    "rm $HOME/ipyslurm.1.log\n",
    "rm $HOME/ipyslurm.2.log\n",
    "rm $HOME/ipyslurm.3.log\n",
    "rm $HOME/ipyslurm.4.log\n",
    "rm $HOME/ipyslurm.5.log\n",
    "rm $HOME/ipyslurm.6.log\n",
    "rm $HOME/ipyslurm.7.log\n",
    "rm $HOME/ipyslurm.8.log\n",
    "rm $HOME/ipyslurm.9.log"
   ]
  },
  {
   "cell_type": "markdown",
   "metadata": {},
   "source": [
    "Use **`slogout`** to log out of the Slurm cluster."
   ]
  },
  {
   "cell_type": "code",
   "execution_count": null,
   "metadata": {},
   "outputs": [],
   "source": [
    "%slogout"
   ]
  }
 ],
 "metadata": {
  "kernelspec": {
   "display_name": "Python 3",
   "language": "python",
   "name": "python3"
  },
  "language_info": {
   "codemirror_mode": {
    "name": "ipython",
    "version": 3
   },
   "file_extension": ".py",
   "mimetype": "text/x-python",
   "name": "python",
   "nbconvert_exporter": "python",
   "pygments_lexer": "ipython3",
   "version": "3.7.12"
  }
 },
 "nbformat": 4,
 "nbformat_minor": 4
}
