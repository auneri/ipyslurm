{
 "cells": [
  {
   "cell_type": "markdown",
   "metadata": {},
   "source": [
    "Import **ipyslurm**."
   ]
  },
  {
   "cell_type": "code",
   "execution_count": null,
   "metadata": {},
   "outputs": [],
   "source": [
    "import ipyslurm"
   ]
  },
  {
   "cell_type": "code",
   "execution_count": null,
   "metadata": {},
   "outputs": [],
   "source": [
    "slurm = ipyslurm.Slurm()"
   ]
  },
  {
   "cell_type": "markdown",
   "metadata": {},
   "source": [
    "Use **`login`** to log in to clusters managed by Slurm."
   ]
  },
  {
   "cell_type": "code",
   "execution_count": null,
   "metadata": {},
   "outputs": [],
   "source": [
    "slurm.login('my.server', username='my.username')"
   ]
  },
  {
   "cell_type": "markdown",
   "metadata": {},
   "source": [
    "Use **`command`** to issue remote commands."
   ]
  },
  {
   "cell_type": "code",
   "execution_count": null,
   "metadata": {},
   "outputs": [],
   "source": [
    "print(slurm.command(r\"\"\"\n",
    "for i in `seq 1 9`; do\n",
    "    echo -n \"$i \"\n",
    "done\n",
    "\"\"\"))"
   ]
  },
  {
   "cell_type": "markdown",
   "metadata": {},
   "source": [
    "Use shebangs (`#!`) to invoke alternative interpreters."
   ]
  },
  {
   "cell_type": "code",
   "execution_count": null,
   "metadata": {},
   "outputs": [],
   "source": [
    "print(slurm.command(r\"\"\"\n",
    "#!/usr/bin/env python\n",
    "for i in range(9):\n",
    "    print(i + 1, end=' ')\n",
    "\"\"\"))"
   ]
  },
  {
   "cell_type": "markdown",
   "metadata": {},
   "source": [
    "Use **`sbatch`** to issue sbatch scripts and **`tail`** to block until execution is complete."
   ]
  },
  {
   "cell_type": "code",
   "execution_count": null,
   "metadata": {},
   "outputs": [],
   "source": [
    "job = slurm.sbatch(r\"\"\"\n",
    "for i in `seq 1 9`; do\n",
    "    sleep 1\n",
    "    echo -n \"$i \"\n",
    "done\n",
    "\"\"\", args=[\n",
    "    '--job-name', 'ipyslurm',\n",
    "    '--output', '$HOME/ipyslurm.log',\n",
    "])\n",
    "slurm.tail(job)"
   ]
  },
  {
   "cell_type": "markdown",
   "metadata": {},
   "source": [
    "Use shebangs (`#!`) to invoke alternative interpreters."
   ]
  },
  {
   "cell_type": "code",
   "execution_count": null,
   "metadata": {},
   "outputs": [],
   "source": [
    "job = slurm.sbatch(r\"\"\"\n",
    "#!/usr/bin/env python\n",
    "#SBATCH --array 1-9\n",
    "#SBATCH --job-name ipyslurm\n",
    "#SBATCH --output $HOME/ipyslurm.%a.log\n",
    "import os\n",
    "print(os.getenv('SLURM_ARRAY_TASK_ID'))\n",
    "\"\"\")\n",
    "slurm.tail(job)"
   ]
  },
  {
   "cell_type": "markdown",
   "metadata": {},
   "source": [
    "Use **`sftp`** to access, transfer, and manage files.  \n",
    "See interactive commands section of https://man.openbsd.org/sftp for available commands."
   ]
  },
  {
   "cell_type": "code",
   "execution_count": null,
   "metadata": {},
   "outputs": [],
   "source": [
    "slurm.sftp(r\"\"\"\n",
    "rm $HOME/ipyslurm.log\n",
    "rm $HOME/ipyslurm.1.log\n",
    "rm $HOME/ipyslurm.2.log\n",
    "rm $HOME/ipyslurm.3.log\n",
    "rm $HOME/ipyslurm.4.log\n",
    "rm $HOME/ipyslurm.5.log\n",
    "rm $HOME/ipyslurm.6.log\n",
    "rm $HOME/ipyslurm.7.log\n",
    "rm $HOME/ipyslurm.8.log\n",
    "rm $HOME/ipyslurm.9.log\n",
    "\"\"\")"
   ]
  },
  {
   "cell_type": "markdown",
   "metadata": {},
   "source": [
    "Use **`logout`** to log out of the Slurm cluster."
   ]
  },
  {
   "cell_type": "code",
   "execution_count": null,
   "metadata": {},
   "outputs": [],
   "source": [
    "slurm.logout()"
   ]
  }
 ],
 "metadata": {
  "kernelspec": {
   "display_name": "Python 3",
   "language": "python",
   "name": "python3"
  },
  "language_info": {
   "codemirror_mode": {
    "name": "ipython",
    "version": 3
   },
   "file_extension": ".py",
   "mimetype": "text/x-python",
   "name": "python",
   "nbconvert_exporter": "python",
   "pygments_lexer": "ipython3",
   "version": "3.10.13"
  }
 },
 "nbformat": 4,
 "nbformat_minor": 4
}
