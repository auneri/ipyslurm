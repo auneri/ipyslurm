{
 "cells": [
  {
   "cell_type": "code",
   "execution_count": null,
   "metadata": {},
   "outputs": [],
   "source": [
    "import ipyslurm"
   ]
  },
  {
   "cell_type": "markdown",
   "metadata": {},
   "source": [
    "Pass login arguments to the constructor."
   ]
  },
  {
   "cell_type": "code",
   "execution_count": null,
   "metadata": {},
   "outputs": [],
   "source": [
    "slurm = ipyslurm.Slurm('my.server', username='my.username')"
   ]
  },
  {
   "cell_type": "markdown",
   "metadata": {},
   "source": [
    "An example bash script that dynamically creates a job array."
   ]
  },
  {
   "cell_type": "code",
   "execution_count": null,
   "metadata": {},
   "outputs": [],
   "source": [
    "script = r\"\"\"\n",
    "job_name=ipyslurm\n",
    "jobs=(\"A\" \"B\" \"C\")\n",
    "\n",
    "if [[ -z \"$SLURM_JOB_ID\" ]]; then\n",
    "    args=(\n",
    "        \"--array 1-${#jobs[@]}\"\n",
    "        \"--job-name \\\"$job_name\\\"\"\n",
    "        \"--mem 1GB\"\n",
    "        \"--output $HOME/ipyslurm.%a.log\"\n",
    "        \"--time 00:10:00\")\n",
    "    echo ${args[@]}\n",
    "    exit\n",
    "fi\n",
    "\n",
    "job_id=$(($SLURM_ARRAY_TASK_ID - 1))\n",
    "echo ${jobs[$job_id]}\n",
    "\"\"\"\n",
    "stdout = slurm.command(script)\n",
    "job = slurm.sbatch(script, args=stdout)\n",
    "slurm.tail(job)"
   ]
  },
  {
   "cell_type": "markdown",
   "metadata": {},
   "source": [
    "An example Python script that dynamically creates a job array."
   ]
  },
  {
   "cell_type": "code",
   "execution_count": null,
   "metadata": {},
   "outputs": [],
   "source": [
    "script = r\"\"\"\n",
    "#!/usr/bin/env python\n",
    "import itertools\n",
    "import os\n",
    "\n",
    "job_name = 'ipyslurm'\n",
    "parameter1s = 'A', 'B', 'C'\n",
    "parameter2s = 1, 2, 3\n",
    "jobs = tuple(itertools.product(parameter1s, parameter2s))\n",
    "\n",
    "if os.getenv('SLURM_JOB_ID') is None:\n",
    "    print(' '.join((\n",
    "        f'--array 1-{len(jobs)}',\n",
    "        f'--job-name \"{job_name}\"',\n",
    "        f'--output $HOME/ipyslurm.%a.log',\n",
    "    )))\n",
    "    raise SystemExit\n",
    "\n",
    "job_id = int(os.getenv('SLURM_ARRAY_TASK_ID')) - 1\n",
    "parameter1, parameter2 = jobs[job_id]\n",
    "print(parameter1, parameter2)\n",
    "\"\"\"\n",
    "stdout = slurm.command(script)\n",
    "job = slurm.sbatch(script, args=stdout)\n",
    "slurm.tail(job)"
   ]
  },
  {
   "cell_type": "code",
   "execution_count": null,
   "metadata": {},
   "outputs": [],
   "source": [
    "print(slurm.command('rm ipyslurm.*.log'))"
   ]
  },
  {
   "cell_type": "markdown",
   "metadata": {},
   "source": [
    "Create empty files to demonstrate `sftp` below."
   ]
  },
  {
   "cell_type": "code",
   "execution_count": null,
   "metadata": {},
   "outputs": [],
   "source": [
    "print(slurm.command(r\"\"\"\n",
    "mkdir -p $HOME/ipyslurm_example\n",
    "for i in `seq 1 9`; do\n",
    "    touch $HOME/ipyslurm_example/$i\n",
    "done\n",
    "\"\"\"))"
   ]
  },
  {
   "cell_type": "markdown",
   "metadata": {},
   "source": [
    "Pass `-r` to apply an operation recursively and `-a` to resume a partial transfer.  \n",
    "See interactive commands section of https://man.openbsd.org/sftp for available commands."
   ]
  },
  {
   "cell_type": "code",
   "execution_count": null,
   "metadata": {},
   "outputs": [],
   "source": [
    "slurm.sftp(r\"\"\"\n",
    "cd $HOME\n",
    "lcd %USERPROFILE%\n",
    "get -ra ipyslurm_example\n",
    "put -ra ipyslurm_example\n",
    "rm -r ipyslurm_example\n",
    "lrm -r ipyslurm_example\n",
    "\"\"\")"
   ]
  },
  {
   "cell_type": "markdown",
   "metadata": {},
   "source": [
    "Pass slurm instance to `ipyslurm` magics."
   ]
  },
  {
   "cell_type": "code",
   "execution_count": null,
   "metadata": {},
   "outputs": [],
   "source": [
    "%load_ext ipyslurm"
   ]
  },
  {
   "cell_type": "code",
   "execution_count": null,
   "metadata": {},
   "outputs": [],
   "source": [
    "%%scommand --instance slurm\n",
    "echo \"$HOME\""
   ]
  },
  {
   "cell_type": "markdown",
   "metadata": {},
   "source": [
    "Descruction ensures logout."
   ]
  },
  {
   "cell_type": "code",
   "execution_count": null,
   "metadata": {},
   "outputs": [],
   "source": [
    "del slurm"
   ]
  }
 ],
 "metadata": {
  "kernelspec": {
   "display_name": "Python 3",
   "language": "python",
   "name": "python3"
  },
  "language_info": {
   "codemirror_mode": {
    "name": "ipython",
    "version": 3
   },
   "file_extension": ".py",
   "mimetype": "text/x-python",
   "name": "python",
   "nbconvert_exporter": "python",
   "pygments_lexer": "ipython3",
   "version": "3.7.12"
  }
 },
 "nbformat": 4,
 "nbformat_minor": 4
}
