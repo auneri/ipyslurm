{
 "cells": [
  {
   "cell_type": "markdown",
   "metadata": {},
   "source": [
    "Load the **ipyslurm** extension.  \n",
    "See [here](http://ipython.readthedocs.io/en/stable/config/extensions/index.html) for help on IPython extensions."
   ]
  },
  {
   "cell_type": "code",
   "execution_count": null,
   "metadata": {},
   "outputs": [],
   "source": [
    "%load_ext ipyslurm"
   ]
  },
  {
   "cell_type": "markdown",
   "metadata": {},
   "source": [
    "Use **`slogin`** to log in to clusters managed by Slurm."
   ]
  },
  {
   "cell_type": "code",
   "execution_count": null,
   "metadata": {},
   "outputs": [],
   "source": [
    "%slogin --server my.server --username my.username"
   ]
  },
  {
   "cell_type": "markdown",
   "metadata": {},
   "source": [
    "Use **`scommand`** to issue remote commands."
   ]
  },
  {
   "cell_type": "code",
   "execution_count": null,
   "metadata": {},
   "outputs": [],
   "source": [
    "%%scommand\n",
    "for i in `seq 1 9`; do\n",
    "    echo -n \"$i \"\n",
    "done"
   ]
  },
  {
   "cell_type": "markdown",
   "metadata": {},
   "source": [
    "Use shebangs (`#!`) to invoke alternative interpreters."
   ]
  },
  {
   "cell_type": "code",
   "execution_count": null,
   "metadata": {},
   "outputs": [],
   "source": [
    "%%scommand\n",
    "#!/usr/bin/env python\n",
    "for i in range(9):\n",
    "    print(i + 1, end=' ')"
   ]
  },
  {
   "cell_type": "markdown",
   "metadata": {},
   "source": [
    "Pass `--period` (and optionally `--timeout`) to repeatedly run commands."
   ]
  },
  {
   "cell_type": "code",
   "execution_count": null,
   "metadata": {},
   "outputs": [],
   "source": [
    "%%scommand --period 1 --timeout 3\n",
    "squeue"
   ]
  },
  {
   "cell_type": "markdown",
   "metadata": {},
   "source": [
    "Use **`sbatch`** to issue jobs and **`stail`** to block until execution is complete."
   ]
  },
  {
   "cell_type": "code",
   "execution_count": null,
   "metadata": {},
   "outputs": [],
   "source": [
    "%%sbatch --job job --args \"--job-name ipyslurm --output $HOME/ipyslurm.log\"\n",
    "for i in `seq 1 9`; do\n",
    "    sleep 1\n",
    "    echo -n \"$i \"\n",
    "done"
   ]
  },
  {
   "cell_type": "code",
   "execution_count": null,
   "metadata": {},
   "outputs": [],
   "source": [
    "%stail {job}"
   ]
  },
  {
   "cell_type": "markdown",
   "metadata": {},
   "source": [
    "Use shebangs (`#!`) to invoke alternative interpreters."
   ]
  },
  {
   "cell_type": "code",
   "execution_count": null,
   "metadata": {},
   "outputs": [],
   "source": [
    "%%sbatch --job job\n",
    "#!/usr/bin/env python\n",
    "#SBATCH --array 1-9\n",
    "#SBATCH --job-name ipyslurm\n",
    "#SBATCH --output $HOME/ipyslurm.%a.log\n",
    "import os\n",
    "print(os.getenv('SLURM_ARRAY_TASK_ID'))"
   ]
  },
  {
   "cell_type": "code",
   "execution_count": null,
   "metadata": {},
   "outputs": [],
   "source": [
    "%stail {job}"
   ]
  },
  {
   "cell_type": "markdown",
   "metadata": {},
   "source": [
    "Use **`sftp`** to access, transfer, and manage files.  \n",
    "See interactive commands section of https://man.openbsd.org/sftp for available commands."
   ]
  },
  {
   "cell_type": "code",
   "execution_count": null,
   "metadata": {},
   "outputs": [],
   "source": [
    "%%sftp\n",
    "rm $HOME/ipyslurm.log\n",
    "rm $HOME/ipyslurm.1.log\n",
    "rm $HOME/ipyslurm.2.log\n",
    "rm $HOME/ipyslurm.3.log\n",
    "rm $HOME/ipyslurm.4.log\n",
    "rm $HOME/ipyslurm.5.log\n",
    "rm $HOME/ipyslurm.6.log\n",
    "rm $HOME/ipyslurm.7.log\n",
    "rm $HOME/ipyslurm.8.log\n",
    "rm $HOME/ipyslurm.9.log"
   ]
  },
  {
   "cell_type": "markdown",
   "metadata": {},
   "source": [
    "Use **`slogout`** to log out of the Slurm cluster."
   ]
  },
  {
   "cell_type": "code",
   "execution_count": null,
   "metadata": {},
   "outputs": [],
   "source": [
    "%slogout"
   ]
  }
 ],
 "metadata": {
  "language_info": {
   "name": "python"
  }
 },
 "nbformat": 4,
 "nbformat_minor": 4
}
