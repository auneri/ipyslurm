{
 "cells": [
  {
   "cell_type": "code",
   "execution_count": null,
   "metadata": {},
   "outputs": [],
   "source": [
    "import ipyslurm"
   ]
  },
  {
   "cell_type": "markdown",
   "metadata": {},
   "source": [
    "Pass login arguments to the constructor."
   ]
  },
  {
   "cell_type": "code",
   "execution_count": null,
   "metadata": {},
   "outputs": [],
   "source": [
    "slurm = ipyslurm.Slurm('my.server', username='my.username')"
   ]
  },
  {
   "cell_type": "markdown",
   "metadata": {},
   "source": [
    "An example bash script that dynamically creates a job array."
   ]
  },
  {
   "cell_type": "code",
   "execution_count": null,
   "metadata": {},
   "outputs": [],
   "source": [
    "script = r\"\"\"\n",
    "job_name=\"ipyslurm\"\n",
    "jobs=\"A B C D E F\"\n",
    "\n",
    "if [ -z \"$SLURM_JOB_ID\" ]; then\n",
    "    num_jobs=$(echo \"$jobs\" | wc -w)\n",
    "    args=\"\n",
    "        --array 1-$num_jobs\n",
    "        --job-name $job_name\n",
    "        --mem 1GB\n",
    "        --output $HOME/ipyslurm.%a.log\n",
    "        --time 00:10:00\"\n",
    "    echo $args\n",
    "    exit\n",
    "fi\n",
    "\n",
    "job_id=$(expr \"$SLURM_ARRAY_TASK_ID\" - 1)\n",
    "job=$(echo $jobs | cut -d' ' -f$((job_id + 1)))\n",
    "echo $job\n",
    "sleep 1\n",
    "\"\"\"\n",
    "stdout = slurm.command(script)\n",
    "job = slurm.sbatch(script, args=stdout)\n",
    "slurm.tail(job)"
   ]
  },
  {
   "cell_type": "markdown",
   "metadata": {},
   "source": [
    "An example Python script that dynamically creates a job array."
   ]
  },
  {
   "cell_type": "code",
   "execution_count": null,
   "metadata": {},
   "outputs": [],
   "source": [
    "script = r\"\"\"\n",
    "#!/usr/bin/env python\n",
    "import itertools\n",
    "import os\n",
    "import time\n",
    "\n",
    "job_name = 'ipyslurm'\n",
    "parameters1 = 'A', 'B', 'C'\n",
    "parameters2 = 1, 2, 3\n",
    "jobs = tuple(itertools.product(parameters1, parameters2))\n",
    "num_jobs = len(jobs)\n",
    "\n",
    "if os.getenv('SLURM_JOB_ID') is None:\n",
    "    print(' '.join((\n",
    "        '--array 1-{}'.format(num_jobs),\n",
    "        '--job-name \"{}\"'.format(job_name),\n",
    "        '--output $HOME/ipyslurm.%a.log',\n",
    "    )))\n",
    "    raise SystemExit\n",
    "\n",
    "job_id = int(os.getenv('SLURM_ARRAY_TASK_ID')) - 1\n",
    "job = jobs[job_id]\n",
    "print(job)\n",
    "time.sleep(1)\n",
    "\"\"\"\n",
    "stdout = slurm.command(script)\n",
    "job = slurm.sbatch(script, args=stdout)\n",
    "slurm.tail(job)"
   ]
  },
  {
   "cell_type": "code",
   "execution_count": null,
   "metadata": {},
   "outputs": [],
   "source": [
    "print(slurm.command('rm ipyslurm.*.log'))"
   ]
  },
  {
   "cell_type": "markdown",
   "metadata": {},
   "source": [
    "Create empty files to demonstrate `sftp` below."
   ]
  },
  {
   "cell_type": "code",
   "execution_count": null,
   "metadata": {},
   "outputs": [],
   "source": [
    "print(slurm.command(r\"\"\"\n",
    "mkdir -p \"$HOME/ipyslurm_example\"\n",
    "for i in $(seq 1 9); do\n",
    "    touch \"$HOME/ipyslurm_example/$i\"\n",
    "done\n",
    "\"\"\"))"
   ]
  },
  {
   "cell_type": "markdown",
   "metadata": {},
   "source": [
    "Pass `-r` to apply an operation recursively and `-a` to resume a partial transfer.  \n",
    "See interactive commands section of https://man.openbsd.org/sftp for available commands."
   ]
  },
  {
   "cell_type": "code",
   "execution_count": null,
   "metadata": {},
   "outputs": [],
   "source": [
    "slurm.sftp(r\"\"\"\n",
    "cd $HOME\n",
    "lcd %USERPROFILE%\n",
    "get -ra ipyslurm_example\n",
    "put -ra ipyslurm_example\n",
    "rm -r ipyslurm_example\n",
    "lrm -r ipyslurm_example\n",
    "\"\"\")"
   ]
  },
  {
   "cell_type": "markdown",
   "metadata": {},
   "source": [
    "Pass slurm instance to `ipyslurm` magics."
   ]
  },
  {
   "cell_type": "code",
   "execution_count": null,
   "metadata": {},
   "outputs": [],
   "source": [
    "%load_ext ipyslurm"
   ]
  },
  {
   "cell_type": "code",
   "execution_count": null,
   "metadata": {},
   "outputs": [],
   "source": [
    "%%scommand --instance slurm\n",
    "echo \"$HOME\""
   ]
  },
  {
   "cell_type": "markdown",
   "metadata": {},
   "source": [
    "Destruction ensures logout."
   ]
  },
  {
   "cell_type": "code",
   "execution_count": null,
   "metadata": {},
   "outputs": [],
   "source": [
    "del slurm"
   ]
  }
 ],
 "metadata": {
  "language_info": {
   "name": "python"
  }
 },
 "nbformat": 4,
 "nbformat_minor": 4
}
